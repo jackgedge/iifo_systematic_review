{
 "cells": [
  {
   "cell_type": "markdown",
   "metadata": {},
   "source": [
    "# Second Author Title and Abstract Review\n",
    "\n",
    "**Author:** Jack Galbraith-Edge\n",
    "\n",
    "In this notebook, I will:\n",
    "- Merge all results into one large results dataframe\n",
    "- Create sample dataframes for second author review.\n",
    "- Export these dataframes to CSVs for review.\n",
    "- Calculate Kappa values for first and second author title and abstract agreement."
   ]
  },
  {
   "cell_type": "code",
   "execution_count": 493,
   "metadata": {},
   "outputs": [],
   "source": [
    "# Import Libraries\n",
    "from notebook_setup import *\n",
    "from helpers import *"
   ]
  },
  {
   "cell_type": "code",
   "execution_count": 494,
   "metadata": {},
   "outputs": [],
   "source": [
    "# Import google scholar and database search data\n",
    "google_df = pd.read_csv(\"/\".join([PROC_DATA_DIR, \"cleaned_google_scholar_title_abstract_screen_end_1.csv\"]))\n",
    "database_df = pd.read_csv(\"/\".join([PROC_DATA_DIR, \"database_search_title_abstract_screen_end.csv\"]))"
   ]
  },
  {
   "cell_type": "code",
   "execution_count": 495,
   "metadata": {},
   "outputs": [],
   "source": [
    "# Merge all Google Scholar and Database search results\n",
    "all_df = pd.merge(\n",
    "    database_df, google_df,\n",
    "    how='outer',\n",
    "    on=[\"Publication Year\", \n",
    "        \"First Author\", \n",
    "        \"Authors\",\n",
    "        \"Publication Title\",\n",
    "        \"Title\",\n",
    "        \"Abstract\",\n",
    "        \"Database\",\n",
    "        \"Exclude\",\n",
    "        \"Reason ID\",\n",
    "        \"DOI\"]\n",
    ")\n",
    "\n",
    "# Specify Desired Column Order\n",
    "desired_column_order = [\"Publication Year\", \"First Author\", \"Authors\", \"Publication Title\", \"Summary\", \"Database\", \"DOI\", \"URL\", \"Title\", \"Abstract\", \"Abstract2\", \"Exclude\", \"Reason ID\"]\n",
    "\n",
    "# Apply to dataframe\n",
    "all_df = all_df[desired_column_order]\n",
    "\n",
    "# Fix capitalisation on of fields\n",
    "all_df[\"Title\"] = all_df[\"Title\"].str.title()\n",
    "all_df[\"First Author\"] = all_df[\"First Author\"].str.title()\n",
    "all_df[\"Authors\"] = all_df[\"Authors\"].str.title()\n",
    "all_df[\"Abstract\"] = all_df[\"Abstract\"].str.title()\n",
    "\n",
    "# Sort by Publication Year ascending.\n",
    "all_df = all_df.sort_values(by=\"Publication Year\", ascending=True).reset_index(drop=True)\n",
    "\n",
    "all_df.index.name = 'id' # Name the index 'id', giving each paper a unique ID."
   ]
  },
  {
   "cell_type": "code",
   "execution_count": 496,
   "metadata": {},
   "outputs": [],
   "source": [
    "# Export all JGE title and abstract reviewed articles\n",
    "all_df.to_csv(\"/\".join([PROC_DATA_DIR, \"all_results_title_abstract_reviewed_jge_end.csv\"]))\n"
   ]
  },
  {
   "cell_type": "code",
   "execution_count": 497,
   "metadata": {},
   "outputs": [],
   "source": [
    "# Create clean dataframe to export for other author review\n",
    "clean_df = all_df\n",
    "\n",
    "# Remove reasons for exlusion and previously marked exclusions for clean export and second author review.\n",
    "clean_df['Exclude'] = None\n",
    "clean_df['Reason ID'] = None\n",
    "\n",
    "# Export to CSV\n",
    "clean_df.to_csv(\"/\".join([RAW_DATA_DIR, \"all_results_title_abstract_start.csv\"]))"
   ]
  },
  {
   "cell_type": "code",
   "execution_count": 498,
   "metadata": {},
   "outputs": [
    {
     "name": "stdout",
     "output_type": "stream",
     "text": [
      "Given sample size: 495\n",
      "Calculating desired sample size... 10% of 495 = 50\n",
      "Creating Sample Dataframe\n"
     ]
    }
   ],
   "source": [
    "# Create sample of 10% of papers\n",
    "clean_sample_df = create_results_sample(clean_df, 0.1, 42) # '42' argument specificies random number to great sample from\n",
    "\n",
    "# export clean data to raw data directory as ms_title_abstract review start.csv\n",
    "clean_sample_df.to_csv(\"/\".join([RAW_DATA_DIR, \"ms_title_abstract_review_start.csv\"]))"
   ]
  },
  {
   "cell_type": "code",
   "execution_count": 499,
   "metadata": {},
   "outputs": [
    {
     "name": "stdout",
     "output_type": "stream",
     "text": [
      "[ True False]\n"
     ]
    }
   ],
   "source": [
    "# Import second author (MS) Title Abstract Review Data\n",
    "ms_reviewed_df = pd.read_csv(\"/\".join([RAW_DATA_DIR, \"ms_title_abstract_review_end.csv\"]))\n",
    "\n",
    "# Check what values are present in Exclude column\n",
    "print(ms_reviewed_df['Exclude'].unique())\n"
   ]
  },
  {
   "cell_type": "code",
   "execution_count": 500,
   "metadata": {},
   "outputs": [],
   "source": [
    "# Import title and abstract review results from JGE.\n",
    "jge_reviewed_df = pd.read_csv(\"/\".join([PROC_DATA_DIR, \"all_results_title_abstract_reviewed_jge_end.csv\"]))\n",
    "\n",
    "# Rename columns before merge with second author (MS) review data.\n",
    "jge_reviewed_df = jge_reviewed_df.rename(columns={\n",
    "    'Exclude': 'Exclude_JGE',\n",
    "    'Reason ID': 'Reason ID_JGE'\n",
    "})"
   ]
  },
  {
   "cell_type": "code",
   "execution_count": 501,
   "metadata": {},
   "outputs": [],
   "source": [
    "# Drop columns in ms_reviewed_df that are redundant in jge_reviewed_df (except for columns to add)\n",
    "ms_reviewed_df = ms_reviewed_df[['id', 'Exclude', 'Reason ID']]\n",
    "\n",
    "# Rename columns in the reviewed dataset\n",
    "ms_reviewed_df.rename(columns={\n",
    "    'Exclude': 'Exclude_MS', \n",
    "    'Reason ID': 'Reason ID_MS'\n",
    "    }, \n",
    "    inplace=True\n",
    ")\n",
    "\n",
    "# Merge the datasets rightwards, so only papers review by MS and JGE are together.\n",
    "jge_ms_reviewed_df = pd.merge(jge_reviewed_df, ms_reviewed_df, on='id', how='right')"
   ]
  },
  {
   "cell_type": "code",
   "execution_count": 502,
   "metadata": {},
   "outputs": [
    {
     "name": "stdout",
     "output_type": "stream",
     "text": [
      "JGE and MS agree on 36/50 reviewed by MS.\n",
      "JGE and MS disagree on 14/50 review by MS.\n",
      "Cohen's Kappa: 0.467\n"
     ]
    }
   ],
   "source": [
    "# See how many papers JGE and MS agree on.\n",
    "jge_ms_agree = jge_ms_reviewed_df[jge_ms_reviewed_df['Exclude_JGE'] == jge_ms_reviewed_df['Exclude_MS']] # create JGE/MS agreement dataframe\n",
    "print(f\"JGE and MS agree on {len(jge_ms_agree)}/{len(jge_ms_reviewed_df)} reviewed by MS.\")\n",
    "\n",
    "jge_ms_disagree = jge_ms_reviewed_df[jge_ms_reviewed_df['Exclude_JGE'] != jge_ms_reviewed_df['Exclude_MS']] # create JGE/MS disagreement dataframe\n",
    "print(f\"JGE and MS disagree on {len(jge_ms_disagree)}/{len(jge_ms_reviewed_df)} review by MS.\") \n",
    "\n",
    "# Export to CSV\n",
    "jge_ms_disagree.to_csv(\"/\".join([RAW_DATA_DIR, \"jge_ms_disagree_title_abstract.csv\"]), index=False) # Export JGE/MS disagreements\n",
    "jge_ms_agree.to_csv(\"/\".join([RAW_DATA_DIR, \"jge_ms_agree_title_abstract.csv\"]), index=False) # Export JGE/MS aggreements\n",
    "\n",
    "# Calculate Cohen's Kappa\n",
    "jge_include = jge_ms_reviewed_df[jge_ms_reviewed_df['Exclude_JGE'] == False] # create dataframe of ms and jge reviewed articles that jge wishes to include\n",
    "jge_exclude = jge_ms_reviewed_df[jge_ms_reviewed_df['Exclude_JGE'] == True] # create dataframe of ms and jge reviewed articles that jge wishes to exclude\n",
    "ms_include = jge_ms_reviewed_df[jge_ms_reviewed_df['Exclude_MS'] == False]  # create dataframe of ms and jge reviewed articles that ms wishes to include\n",
    "ms_exclude = jge_ms_reviewed_df[jge_ms_reviewed_df['Exclude_MS'] == True]   # create dataframe of ms and jge reviewed articles that ms wishes to exclude\n",
    "\n",
    "ms_reviewed_count = len(ms_reviewed_df) # calculate number of papers review by JGE and MS\n",
    "jge_ms_agree_count = len(jge_ms_agree) # calculate number of papers JGE and MS agree on\n",
    "\n",
    "jge_include_count = len(jge_include) # calculate number of JGE inclusions\n",
    "jge_exclude_count = len(jge_exclude) # calculate number of JGE exclusions\n",
    "ms_include_count = len(ms_include) # calculate number of MS inclusion\n",
    "ms_exclude_count = len(ms_exclude) # calculate number of MS exclusions\n",
    "\n",
    "# Observer agreement\n",
    "P_o = jge_ms_agree_count / ms_reviewed_count\n",
    "\n",
    "# Expected agreement\n",
    "P_e =   ((jge_include_count / ms_reviewed_count) * (ms_include_count / ms_reviewed_count)) + \\\n",
    "        ((jge_exclude_count / ms_reviewed_count) * (ms_exclude_count / ms_reviewed_count))\n",
    "\n",
    "# Cohen's Kappa\n",
    "kappa = (P_o - P_e) / (1 - P_e)\n",
    "\n",
    "print(f\"Cohen's Kappa: {kappa:.3f}\")"
   ]
  },
  {
   "cell_type": "markdown",
   "metadata": {},
   "source": []
  }
 ],
 "metadata": {
  "kernelspec": {
   "display_name": "base",
   "language": "python",
   "name": "python3"
  },
  "language_info": {
   "codemirror_mode": {
    "name": "ipython",
    "version": 3
   },
   "file_extension": ".py",
   "mimetype": "text/x-python",
   "name": "python",
   "nbconvert_exporter": "python",
   "pygments_lexer": "ipython3",
   "version": "3.11.7"
  }
 },
 "nbformat": 4,
 "nbformat_minor": 2
}
