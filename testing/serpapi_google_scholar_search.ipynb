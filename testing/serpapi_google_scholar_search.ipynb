{
 "cells": [
  {
   "cell_type": "markdown",
   "metadata": {},
   "source": [
    "# SerpAPI Google Scholar Search\n",
    "\n",
    "**Author:** Jack Galbraith-Edge\n",
    "**Date:** 8th January 2025\n",
    "\n",
    "Following the failure of my experiments with Scholarly, I opted to use SerpAPI to query Google Scholar and clean and manipulate the results to add to my systematic review database/literature search. SerpAPI has a free-tier up to 100 Google Scholar requests per month, so I decided to try this."
   ]
  },
  {
   "cell_type": "markdown",
   "metadata": {},
   "source": [
    "## Setup"
   ]
  },
  {
   "cell_type": "code",
   "execution_count": 3,
   "metadata": {},
   "outputs": [],
   "source": [
    "# import libraries\n",
    "import os   # for navigating file system\n",
    "import json # for working with json files\n",
    "from dotenv import load_dotenv  # to load enviromental variables and aid privacy of API keys and similar\n",
    "from serpapi import GoogleSearch    # for querying google scholar\n",
    "import pandas as pd # for working with dataframes"
   ]
  },
  {
   "cell_type": "code",
   "execution_count": 4,
   "metadata": {},
   "outputs": [
    {
     "name": "stdout",
     "output_type": "stream",
     "text": [
      "SerpAPI key loaded.\n",
      "OUTPUT_PATH loaded.\n"
     ]
    }
   ],
   "source": [
    "# load environmental variables\n",
    "load_dotenv()\n",
    "\n",
    "# get SerpAPI key from .env file.\n",
    "try: \n",
    "    SERP_API_KEY = os.getenv('SERP_API_KEY')\n",
    "    print(\"SerpAPI key loaded.\")\n",
    "except KeyError:\n",
    "    print(\"SerpAPI Key not found\")\n",
    "\n",
    "# get file output path from .env\n",
    "try:\n",
    "    OUTPUT_PATH = os.getenv('OUTPUT_PATH')\n",
    "    print(\"OUTPUT_PATH loaded.\")\n",
    "except KeyError:\n",
    "    print(\"Error: OUTPUT_PATH not found in .env file\")\n"
   ]
  },
  {
   "cell_type": "markdown",
   "metadata": {},
   "source": [
    "## Functions"
   ]
  },
  {
   "cell_type": "code",
   "execution_count": 19,
   "metadata": {},
   "outputs": [],
   "source": [
    "# define a function to query google scholar\n",
    "def query_google_scholar(google_scholar_query, api_key=SERP_API_KEY, max_results=300):\n",
    "\n",
    "    \"\"\"\n",
    "    Usage: \n",
    "        - google_scholar_query: a string search query\n",
    "        - api_key = SerpAPI key, available at: https://serpapi.com/\n",
    "        - max_results = 300. Set at this level as single author and some evidence says that this is suitable limit.\n",
    "    \"\"\"\n",
    "\n",
    "    all_results = []  # store all results here\n",
    "    start = 0         # start with the first page\n",
    "\n",
    "    while len(all_results) < max_results:\n",
    "        # define parameters for searching google scholar\n",
    "        params = {\n",
    "          \"api_key\": api_key,  # SerpAPI key\n",
    "          \"engine\": \"google_scholar\", # google_scholar engine\n",
    "          \"q\": google_scholar_query, # define query\n",
    "          \"start\": start,\n",
    "          \"num\": 20\n",
    "        }\n",
    "\n",
    "        # search google scholar\n",
    "        search = GoogleSearch(params)\n",
    "        results = search.get_dict() # get results as dictionary\n",
    "\n",
    "        # get organic results\n",
    "        organic_results = results.get(\"organic_results\", []) # retrieve organic list of results from results\n",
    "\n",
    "        # add results to the list\n",
    "        all_results.extend(organic_results)\n",
    "\n",
    "        # check if there are no more results\n",
    "        if len(organic_results) < 20:\n",
    "            print(\"No more results to fetch.\")\n",
    "            break  # exit the loop\n",
    "\n",
    "        # increment parameter for next page\n",
    "        start += 20\n",
    "        print(f\"Fetched {len(all_results)} results so far...\")\n",
    "\n",
    "    return all_results[:max_results]"
   ]
  },
  {
   "cell_type": "code",
   "execution_count": 98,
   "metadata": {},
   "outputs": [],
   "source": [
    "def scholar_to_df(organic_results, all_results_dict):\n",
    "\n",
    "    \"\"\"\n",
    "    A function to transform dictionary output of SerpAPI Google Scholar Query into a\n",
    "    uniform dataframe for use my systematic review.\n",
    "\n",
    "    Requirements:\n",
    "        - Pandas\n",
    "\n",
    "    Usage: \n",
    "        - Takes input from query_google_scholar function.\n",
    "        - Outputs a pandas DataFrame\n",
    "    \"\"\"\n",
    "# convert organic results to dictionary\n",
    "    organic_results_dict = {}\n",
    "\n",
    "    for item in organic_results:\n",
    "        organic_results_dict[len(organic_results_dict)] = item\n",
    "\n",
    "    organic_results_df = pd.DataFrame(columns=[\n",
    "    'Publication Year', 'First Author', 'Summary', 'Authors', 'Publication Title',\n",
    "    'Title', 'Abstract', 'url', 'Database', 'Exclude', 'Reason ID',\n",
    "    'Reason'])\n",
    "\n",
    "    # create empty list to store rows\n",
    "    rows = []\n",
    "\n",
    "    # iterate through organic_results_dict\n",
    "    for item in organic_results_dict.values():\n",
    "        # extract information\n",
    "        title = item.get('title', None)\n",
    "        abstract = item.get('snippet', None)\n",
    "\n",
    "        summary = item['publication_info'].get('summary', \"Summary not found.\")\n",
    "        if summary:\n",
    "            authors = summary.split(' - ')[0].strip() if ' - ' in summary else \"No Author Listed\"\n",
    "            publication_info = summary.split(' - ')[1].strip() if ' - ' in summary else \"No Publication Information\"\n",
    "            publication_title = publication_info.split(',')[0].strip() if ',' in publication_info else None\n",
    "            year = publication_info.split(',')[1].strip() if ',' in publication_info else None\n",
    "        else:\n",
    "            authors = publication_title = year = None\n",
    "\n",
    "        # add database specific fields\n",
    "        database = \"Google Scholar\"\n",
    "        exclude = None\n",
    "        reason_id = None\n",
    "        reason = None\n",
    "\n",
    "        # append row as dictionary\n",
    "        rows.append({\n",
    "            'Publication Year': year,\n",
    "            'First Author': f\"{authors.split(' ')[-1]}, {authors.split(' ')[0][0]}.\" if authors else None,\n",
    "            'Authors': authors,\n",
    "            'Summary': summary,\n",
    "            'Publication Title': publication_title,\n",
    "            'Title': title,\n",
    "            'Abstract': abstract, \n",
    "            'URL': item.get('link', None),\n",
    "            'Database': database,\n",
    "            'Exclude': exclude,\n",
    "            'Reason ID': reason_id,\n",
    "            'Reason': reason\n",
    "        })\n",
    "\n",
    "    organic_results_df = pd.DataFrame(rows).sort_values(by=\"Publication Year\", ascending=True).reset_index(drop=True)\n",
    "\n",
    "    return organic_results_df"
   ]
  },
  {
   "cell_type": "code",
   "execution_count": 78,
   "metadata": {},
   "outputs": [],
   "source": [
    "# append to all results dictionary\n",
    "def append_results(query, df, results_dict):\n",
    "\n",
    "    \"\"\"\n",
    "    A function that appends query and the resultant dataframe to a dictionary.\n",
    "    Allows for tracking of queries and for number of results from these queries. \n",
    "    \"\"\"\n",
    "\n",
    "    if results_dict is None:\n",
    "        results_dict = {}\n",
    "    results_dict[len(results_dict)] = {\n",
    "        \"query\": query,\n",
    "        \"results\": df}\n",
    "    return results_dict"
   ]
  },
  {
   "cell_type": "markdown",
   "metadata": {},
   "source": [
    "## Query"
   ]
  },
  {
   "cell_type": "code",
   "execution_count": 79,
   "metadata": {},
   "outputs": [],
   "source": [
    "all_results_dict = {}"
   ]
  },
  {
   "cell_type": "markdown",
   "metadata": {},
   "source": [
    "### Query 1"
   ]
  },
  {
   "cell_type": "code",
   "execution_count": 80,
   "metadata": {},
   "outputs": [],
   "source": [
    "# Define google scholar query\n",
    "google_scholar_query =  \"\"\"\n",
    "                        (\"foreign obj*\" OR \"foreign bod*\")\n",
    "                        AND\n",
    "                        (\"intent*\" OR \"deliberate*\" OR \"purpose*\" OR \"self-injur*\" OR \"selfharm*\" OR \"self-harm*\")\n",
    "                        AND\n",
    "                        (\"ingest*\" OR \"swallow*\"))\n",
    "                        AND\n",
    "                        (\"surg*\" OR \"endoscop*\" OR \"EGD\" OR \"OGD\" OR \"Esophagogastroduodenoscopy\" OR \"Oesophagogastroduodenoscopy\" OR \"manag*\")\"\n",
    "                        \"\"\""
   ]
  },
  {
   "cell_type": "code",
   "execution_count": 81,
   "metadata": {},
   "outputs": [
    {
     "name": "stdout",
     "output_type": "stream",
     "text": [
      "Fetched 20 results so far...\n",
      "Fetched 40 results so far...\n",
      "Fetched 60 results so far...\n",
      "No more results to fetch.\n"
     ]
    }
   ],
   "source": [
    "organic_results = query_google_scholar(google_scholar_query)\n"
   ]
  },
  {
   "cell_type": "code",
   "execution_count": 82,
   "metadata": {},
   "outputs": [],
   "source": [
    "google_scholar_results_df = scholar_to_df(organic_results)\n",
    "\n",
    "# append results to final\n",
    "all_results_dict = append_results(google_scholar_query, google_scholar_results_df, all_results_dict)"
   ]
  },
  {
   "cell_type": "markdown",
   "metadata": {},
   "source": [
    "### Query 2"
   ]
  },
  {
   "cell_type": "code",
   "execution_count": 83,
   "metadata": {},
   "outputs": [],
   "source": [
    "# Define google scholar query\n",
    "google_scholar_query =  \"\"\"\n",
    "                        (\"foreign object\" OR \"foreign body\")\n",
    "                        \"\"\""
   ]
  },
  {
   "cell_type": "code",
   "execution_count": 84,
   "metadata": {},
   "outputs": [
    {
     "name": "stdout",
     "output_type": "stream",
     "text": [
      "Fetched 20 results so far...\n",
      "Fetched 40 results so far...\n",
      "Fetched 60 results so far...\n",
      "Fetched 80 results so far...\n",
      "Fetched 100 results so far...\n",
      "Fetched 120 results so far...\n",
      "Fetched 140 results so far...\n",
      "Fetched 160 results so far...\n",
      "Fetched 180 results so far...\n",
      "Fetched 200 results so far...\n",
      "Fetched 220 results so far...\n",
      "Fetched 240 results so far...\n",
      "Fetched 260 results so far...\n",
      "Fetched 280 results so far...\n",
      "Fetched 300 results so far...\n"
     ]
    }
   ],
   "source": [
    "# query google scholar\n",
    "organic_results = query_google_scholar(google_scholar_query)"
   ]
  },
  {
   "cell_type": "code",
   "execution_count": 85,
   "metadata": {},
   "outputs": [],
   "source": [
    "google_scholar_results_df = scholar_to_df(organic_results)\n",
    "\n",
    "# append results to final\n",
    "all_results_dict = append_results(google_scholar_query, google_scholar_results_df, all_results_dict)"
   ]
  },
  {
   "cell_type": "markdown",
   "metadata": {},
   "source": [
    "### Query Summary"
   ]
  },
  {
   "cell_type": "code",
   "execution_count": 101,
   "metadata": {},
   "outputs": [
    {
     "data": {
      "text/html": [
       "<div>\n",
       "<style scoped>\n",
       "    .dataframe tbody tr th:only-of-type {\n",
       "        vertical-align: middle;\n",
       "    }\n",
       "\n",
       "    .dataframe tbody tr th {\n",
       "        vertical-align: top;\n",
       "    }\n",
       "\n",
       "    .dataframe thead th {\n",
       "        text-align: right;\n",
       "    }\n",
       "</style>\n",
       "<table border=\"1\" class=\"dataframe\">\n",
       "  <thead>\n",
       "    <tr style=\"text-align: right;\">\n",
       "      <th></th>\n",
       "      <th>Query</th>\n",
       "      <th>Num Results</th>\n",
       "    </tr>\n",
       "  </thead>\n",
       "  <tbody>\n",
       "    <tr>\n",
       "      <th>0</th>\n",
       "      <td>\\n                        (\"foreign obj*\" OR \"...</td>\n",
       "      <td>60</td>\n",
       "    </tr>\n",
       "    <tr>\n",
       "      <th>1</th>\n",
       "      <td>\\n                        (\"foreign object\" OR...</td>\n",
       "      <td>300</td>\n",
       "    </tr>\n",
       "  </tbody>\n",
       "</table>\n",
       "</div>"
      ],
      "text/plain": [
       "                                               Query  Num Results\n",
       "0  \\n                        (\"foreign obj*\" OR \"...           60\n",
       "1  \\n                        (\"foreign object\" OR...          300"
      ]
     },
     "execution_count": 102,
     "metadata": {},
     "output_type": "execute_result"
    }
   ],
   "source": [
    "# show number of results for each query and store in dataframe\n",
    "\n",
    "# create results dataframe\n",
    "results_df = pd.DataFrame(columns=[\"Query\", \"Num Results\"])\n",
    "\n",
    "# initialise list to store rows in \n",
    "rows = []\n",
    "\n",
    "# iterate through all_results_dict that contains queries and results dataframes from query\n",
    "for item in all_results_dict.values():\n",
    "    \n",
    "    query = item.get('query') # get query\n",
    "    num_results = len(item.get('results')) # get number of results - max is 300.\n",
    "\n",
    "    # append row as dictionary\n",
    "    rows.append({\n",
    "        \"Query\": query,\n",
    "        \"Num Results\": num_results\n",
    "        })\n",
    "\n",
    "# create dataframe from rows\n",
    "results_df = pd.DataFrame(rows)\n",
    "\n",
    "results_df"
   ]
  },
  {
   "cell_type": "code",
   "execution_count": null,
   "metadata": {},
   "outputs": [],
   "source": []
  }
 ],
 "metadata": {
  "kernelspec": {
   "display_name": "base",
   "language": "python",
   "name": "python3"
  },
  "language_info": {
   "codemirror_mode": {
    "name": "ipython",
    "version": 3
   },
   "file_extension": ".py",
   "mimetype": "text/x-python",
   "name": "python",
   "nbconvert_exporter": "python",
   "pygments_lexer": "ipython3",
   "version": "3.11.7"
  }
 },
 "nbformat": 4,
 "nbformat_minor": 2
}
