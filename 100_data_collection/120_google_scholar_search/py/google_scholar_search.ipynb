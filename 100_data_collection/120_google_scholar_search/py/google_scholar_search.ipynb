{
 "cells": [
  {
   "cell_type": "markdown",
   "metadata": {},
   "source": [
    "# SerpAPI Google Scholar Search\n",
    "\n",
    "**Author:** Jack Galbraith-Edge\n",
    "\n",
    "**Date:** 8th January 2025\n",
    "\n",
    "## Background\n",
    "Google Scholar is popular tool for searching grey literature. Unlike databases like PubMed and Embase which are curated, maintained by humans and contain only published literature. Google Scholar, on the other hand, searches the internet for what it believes are academic materials and then displays them in a list. As a result, Google Scholar is excellent for seaching grey literature, as results will include unpublished data such as thesises and other useful material, reducing publication bias and susceptability bias (Haddaway et al., 2015)\n",
    "\n",
    "Unfortunately, because Google Scholar references the internet in this way and is not itself a database, this can make querying cumbersome and the number of results returned by queries and be overwhelming. \n",
    "\n",
    "Following the failure of my experiments with Scholarly, I opted to use SerpAPI to query Google Scholar and clean and manipulate the results to add to my systematic review database/literature search. SerpAPI has a free-tier up to 100 Google Scholar requests per month, so I utilise my free trial and give it a go.\n",
    "\n",
    "This document details my search queries and how I've tailored them to gather an appropriate number of results.\n",
    "\n",
    "## Important\n",
    "The result limit in my query function is set to 300. This is because some research exists to researches should focus on the first 200-300 results, with useful resources being found after the 80 result mark (Haddaway et al., 2015)."
   ]
  },
  {
   "cell_type": "markdown",
   "metadata": {},
   "source": [
    "## Setup"
   ]
  },
  {
   "cell_type": "code",
   "execution_count": 16,
   "metadata": {},
   "outputs": [],
   "source": [
    "# import libraries\n",
    "import os   # for navigating file system\n",
    "import json # for working with json files\n",
    "from dotenv import load_dotenv  # to load enviromental variables and aid privacy of API keys and similar\n",
    "from serpapi import GoogleSearch    # for querying google scholar\n",
    "import pandas as pd # for working with dataframes"
   ]
  },
  {
   "cell_type": "code",
   "execution_count": 17,
   "metadata": {},
   "outputs": [
    {
     "name": "stdout",
     "output_type": "stream",
     "text": [
      "SerpAPI key loaded.\n",
      "OUTPUT_PATH loaded.\n",
      "INPUT_PATH loaded.\n"
     ]
    }
   ],
   "source": [
    "# load environmental variables\n",
    "load_dotenv()\n",
    "\n",
    "# get SerpAPI key from .env file.\n",
    "try: \n",
    "    SERP_API_KEY = os.getenv('SERP_API_KEY')\n",
    "    print(\"SerpAPI key loaded.\")\n",
    "except KeyError:\n",
    "    print(\"SerpAPI Key not found\")\n",
    "\n",
    "# get file output path from .env\n",
    "try:\n",
    "    OUTPUT_PATH = os.getenv('GS_SEARCHES_OUTPUT_PATH')\n",
    "    print(\"OUTPUT_PATH loaded.\")\n",
    "except KeyError:\n",
    "    print(\"Error: OUTPUT_PATH not found in .env file\")\n",
    "\n",
    "# get file output path from .env\n",
    "try:\n",
    "    INPUT_PATH = os.getenv('GS_SEARCHES_INPUT_PATH')\n",
    "    print(\"INPUT_PATH loaded.\")\n",
    "except KeyError:\n",
    "    print(\"Error: INPUT_PATH not found in .env file\")"
   ]
  },
  {
   "cell_type": "markdown",
   "metadata": {},
   "source": [
    "## Functions"
   ]
  },
  {
   "cell_type": "code",
   "execution_count": 18,
   "metadata": {},
   "outputs": [],
   "source": [
    "# define a function to query google scholar\n",
    "def query_google_scholar(google_scholar_query, api_key=SERP_API_KEY, max_results=300):\n",
    "\n",
    "    \"\"\"\n",
    "    Query google scholar using SerpAPI\n",
    "    \n",
    "    Parameters: \n",
    "        - google_scholar_query: a string search query\n",
    "        - api_key = SerpAPI key, available at: https://serpapi.com/\n",
    "        - max_results = 300. Set at this level as single author and some evidence says that this is suitable limit.\n",
    "    \n",
    "    - Sets language to english\n",
    "    \n",
    "    \"\"\"\n",
    "\n",
    "    all_results = []  # store all results here\n",
    "    start = 0         # start with the first page\n",
    "\n",
    "    while len(all_results) < max_results:\n",
    "        # define parameters for searching google scholar\n",
    "        params = {\n",
    "          \"api_key\": api_key,  # SerpAPI key\n",
    "          \"engine\": \"google_scholar\", # google_scholar engine\n",
    "          \"q\": google_scholar_query, # define query\n",
    "          \"start\": start,\n",
    "          \"num\": 20,\n",
    "          \"hl\": \"en\" # set language to english\n",
    "        }\n",
    "\n",
    "        # search google scholar\n",
    "        search = GoogleSearch(params)\n",
    "        results = search.get_dict() # get results as dictionary\n",
    "\n",
    "        # get organic results\n",
    "        organic_results = results.get(\"organic_results\", []) # retrieve organic list of results from results\n",
    "\n",
    "        # add results to the list\n",
    "        all_results.extend(organic_results)\n",
    "\n",
    "        # check if there are no more results\n",
    "        if len(organic_results) < 20:\n",
    "            print(\"No more results to fetch.\")\n",
    "            break  # exit the loop\n",
    "\n",
    "        # increment parameter for next page\n",
    "        start += 20\n",
    "        print(f\"Fetched {len(all_results)} results so far...\")\n",
    "\n",
    "        if len(all_results) == max_results:\n",
    "            print(f\"Maximum number of {max_results} results reached.\")\n",
    "\n",
    "    return all_results[:max_results]"
   ]
  },
  {
   "cell_type": "code",
   "execution_count": 19,
   "metadata": {},
   "outputs": [],
   "source": [
    "def scholar_to_df(organic_results, all_results_dict):\n",
    "\n",
    "    \"\"\"\n",
    "    A function to transform dictionary output of SerpAPI Google Scholar Query into a\n",
    "    pandas dataframe.\n",
    "\n",
    "    Requirements:\n",
    "        - Pandas\n",
    "\n",
    "    Usage: \n",
    "        - Takes input from query_google_scholar function.\n",
    "        - Outputs a pandas DataFrame\n",
    "    \"\"\"\n",
    "# convert organic results to dictionary\n",
    "    organic_results_dict = {}\n",
    "\n",
    "    for item in organic_results:\n",
    "        organic_results_dict[len(organic_results_dict)] = item\n",
    "\n",
    "    organic_results_df = pd.DataFrame(columns=[\n",
    "    'Publication Year', 'First Author', 'Summary', 'Authors', 'Publication Title',\n",
    "    'Title', 'Abstract', 'URL', 'Database', 'Exclude', 'Reason ID',\n",
    "    'Reason'])\n",
    "\n",
    "    # create empty list to store rows\n",
    "    rows = []\n",
    "\n",
    "    # iterate through organic_results_dict\n",
    "    for item in organic_results_dict.values():\n",
    "        # extract information\n",
    "        title = item.get('title', None)\n",
    "        abstract = item.get('snippet', None)\n",
    "\n",
    "        summary = item['publication_info'].get('summary', \"Summary not found.\")\n",
    "        if summary:\n",
    "            authors = summary.split(' - ')[0].strip() if ' - ' in summary else \"No Author Listed\"\n",
    "            publication_info = summary.split(' - ')[1].strip() if ' - ' in summary else \"No Publication Information\"\n",
    "            publication_title = publication_info.split(',')[0].strip() if ',' in publication_info else None\n",
    "            year = publication_info.split(',')[-1].strip() if ',' in publication_info else None\n",
    "        else:\n",
    "            authors = publication_title = year = None\n",
    "\n",
    "        # add database specific fields\n",
    "        database = \"Google Scholar\"\n",
    "        exclude = None\n",
    "        reason_id = None\n",
    "        reason = None\n",
    "\n",
    "        # append row as dictionary\n",
    "        rows.append({\n",
    "            'Publication Year': year,\n",
    "            'First Author': f\"{authors.split(' ')[-1]}, {authors.split(' ')[0][0]}.\" if authors else None,\n",
    "            'Authors': authors,\n",
    "            'Summary': summary,\n",
    "            'Publication Title': publication_title,\n",
    "            'Title': title,\n",
    "            'Abstract': abstract, \n",
    "            'URL': item.get('link', None),\n",
    "            'Database': database,\n",
    "            'Exclude': exclude,\n",
    "            'Reason ID': reason_id,\n",
    "            'Reason': reason\n",
    "        })\n",
    "\n",
    "    organic_results_df = pd.DataFrame(rows).sort_values(by=\"Publication Year\", ascending=True).reset_index(drop=True)\n",
    "\n",
    "    return organic_results_df"
   ]
  },
  {
   "cell_type": "code",
   "execution_count": 20,
   "metadata": {},
   "outputs": [],
   "source": [
    "# append to all results dictionary\n",
    "def append_results(query, df, results_dict):\n",
    "\n",
    "    \"\"\"\n",
    "    A function that appends query and the resultant dataframe to a dictionary.\n",
    "    Allows for tracking of queries and for number of results from these queries. \n",
    "    \"\"\"\n",
    "\n",
    "    if results_dict is None:\n",
    "        results_dict = {}\n",
    "\n",
    "    results_dict[len(results_dict)] = {\n",
    "        \"query\": query,\n",
    "        \"results\": df}\n",
    "    return results_dict"
   ]
  },
  {
   "cell_type": "markdown",
   "metadata": {},
   "source": [
    "## Queries"
   ]
  },
  {
   "cell_type": "code",
   "execution_count": 21,
   "metadata": {},
   "outputs": [],
   "source": [
    "# create dictionary to store search query and results in for ease of reference later.\n",
    "all_results_dict = {}"
   ]
  },
  {
   "cell_type": "markdown",
   "metadata": {},
   "source": [
    "### Query 1"
   ]
  },
  {
   "cell_type": "code",
   "execution_count": 22,
   "metadata": {},
   "outputs": [],
   "source": [
    "# Define google scholar query\n",
    "google_scholar_query =  \"\"\"\n",
    "                        (\"foreign obj*\" OR \"foreign bod*\")\n",
    "                        \"\"\""
   ]
  },
  {
   "cell_type": "code",
   "execution_count": 23,
   "metadata": {},
   "outputs": [
    {
     "name": "stdout",
     "output_type": "stream",
     "text": [
      "Fetched 20 results so far...\n",
      "Fetched 40 results so far...\n",
      "Fetched 60 results so far...\n",
      "Fetched 80 results so far...\n",
      "Fetched 100 results so far...\n",
      "Fetched 120 results so far...\n",
      "Fetched 140 results so far...\n",
      "Fetched 160 results so far...\n",
      "Fetched 180 results so far...\n",
      "Fetched 200 results so far...\n",
      "Fetched 220 results so far...\n",
      "Fetched 240 results so far...\n",
      "Fetched 260 results so far...\n",
      "Fetched 280 results so far...\n",
      "Fetched 300 results so far...\n",
      "Maximum number of 300 results reached.\n"
     ]
    }
   ],
   "source": [
    "organic_results = query_google_scholar(google_scholar_query)\n"
   ]
  },
  {
   "cell_type": "code",
   "execution_count": 24,
   "metadata": {},
   "outputs": [],
   "source": [
    "google_scholar_results_df = scholar_to_df(organic_results, all_results_dict)\n",
    "\n",
    "# append results to final\n",
    "all_results_dict = append_results(google_scholar_query, google_scholar_results_df, all_results_dict)"
   ]
  },
  {
   "cell_type": "markdown",
   "metadata": {},
   "source": [
    "### Query 2"
   ]
  },
  {
   "cell_type": "code",
   "execution_count": 25,
   "metadata": {},
   "outputs": [],
   "source": [
    "# Define google scholar query\n",
    "google_scholar_query =  \"\"\"\n",
    "                        (\"foreign obj*\" OR \"foreign bod*\")\n",
    "                        AND\n",
    "                        (\"intent*\" OR \"deliberate*\" OR \"purpose*\" OR \"self-injur*\" OR \"selfharm*\" OR \"self-harm*\")\n",
    "                        \"\"\""
   ]
  },
  {
   "cell_type": "code",
   "execution_count": 26,
   "metadata": {},
   "outputs": [
    {
     "name": "stdout",
     "output_type": "stream",
     "text": [
      "Fetched 20 results so far...\n",
      "Fetched 40 results so far...\n",
      "Fetched 60 results so far...\n",
      "Fetched 80 results so far...\n",
      "Fetched 100 results so far...\n",
      "Fetched 120 results so far...\n",
      "Fetched 140 results so far...\n",
      "Fetched 160 results so far...\n",
      "Fetched 180 results so far...\n",
      "Fetched 200 results so far...\n",
      "Fetched 220 results so far...\n",
      "Fetched 240 results so far...\n",
      "Fetched 260 results so far...\n",
      "Fetched 280 results so far...\n",
      "Fetched 300 results so far...\n",
      "Maximum number of 300 results reached.\n"
     ]
    }
   ],
   "source": [
    "# query google scholar\n",
    "organic_results = query_google_scholar(google_scholar_query)"
   ]
  },
  {
   "cell_type": "code",
   "execution_count": 27,
   "metadata": {},
   "outputs": [],
   "source": [
    "google_scholar_results_df = scholar_to_df(organic_results, all_results_dict)\n",
    "\n",
    "# append results to final\n",
    "all_results_dict = append_results(google_scholar_query, google_scholar_results_df, all_results_dict)"
   ]
  },
  {
   "cell_type": "markdown",
   "metadata": {},
   "source": [
    "### Query 3"
   ]
  },
  {
   "cell_type": "code",
   "execution_count": 28,
   "metadata": {},
   "outputs": [],
   "source": [
    "# Define google scholar query\n",
    "google_scholar_query =  \"\"\"\n",
    "                        (\"foreign obj*\" OR \"foreign bod*\")\n",
    "                        AND\n",
    "                        (\"intent*\" OR \"deliberate*\" OR \"purpose*\" OR \"self-injur*\" OR \"selfharm*\" OR \"self-harm*\")\n",
    "                        AND\n",
    "                        (\"ingest*\" OR \"swallow*\")\n",
    "                        \"\"\""
   ]
  },
  {
   "cell_type": "code",
   "execution_count": 29,
   "metadata": {},
   "outputs": [
    {
     "name": "stdout",
     "output_type": "stream",
     "text": [
      "Fetched 20 results so far...\n",
      "Fetched 40 results so far...\n",
      "Fetched 60 results so far...\n",
      "Fetched 80 results so far...\n",
      "Fetched 100 results so far...\n",
      "Fetched 120 results so far...\n",
      "No more results to fetch.\n"
     ]
    }
   ],
   "source": [
    "# query google scholar\n",
    "organic_results = query_google_scholar(google_scholar_query)"
   ]
  },
  {
   "cell_type": "code",
   "execution_count": 30,
   "metadata": {},
   "outputs": [],
   "source": [
    "google_scholar_results_df = scholar_to_df(organic_results, all_results_dict)\n",
    "\n",
    "# append results to final\n",
    "all_results_dict = append_results(google_scholar_query, google_scholar_results_df, all_results_dict)"
   ]
  },
  {
   "cell_type": "markdown",
   "metadata": {},
   "source": [
    "### Query 4"
   ]
  },
  {
   "cell_type": "code",
   "execution_count": 31,
   "metadata": {},
   "outputs": [],
   "source": [
    "# Define google scholar query\n",
    "google_scholar_query =  \"\"\"\n",
    "                        (\"foreign obj*\" OR \"foreign bod*\")\n",
    "                        AND\n",
    "                        (\"intent*\" OR \"deliberate*\" OR \"purpose*\" OR \"self-injur*\" OR \"selfharm*\" OR \"self-harm*\")\n",
    "                        AND\n",
    "                        (\"ingest*\" OR \"swallow*\"))\n",
    "                        AND\n",
    "                        (\"surg*\" OR \"endoscop*\" OR \"EGD\" OR \"OGD\" OR \"Esophagogastroduodenoscopy\" OR \"Oesophagogastroduodenoscopy\" OR \"manag*\")\"\n",
    "                        \"\"\""
   ]
  },
  {
   "cell_type": "code",
   "execution_count": 32,
   "metadata": {},
   "outputs": [
    {
     "name": "stdout",
     "output_type": "stream",
     "text": [
      "Fetched 20 results so far...\n",
      "Fetched 40 results so far...\n",
      "Fetched 60 results so far...\n",
      "No more results to fetch.\n"
     ]
    }
   ],
   "source": [
    "# query google scholar\n",
    "organic_results = query_google_scholar(google_scholar_query)"
   ]
  },
  {
   "cell_type": "code",
   "execution_count": 33,
   "metadata": {},
   "outputs": [],
   "source": [
    "google_scholar_results_df = scholar_to_df(organic_results, all_results_dict)\n",
    "\n",
    "# append results to final\n",
    "all_results_dict = append_results(google_scholar_query, google_scholar_results_df, all_results_dict)"
   ]
  },
  {
   "cell_type": "markdown",
   "metadata": {},
   "source": [
    "### Query 5\n",
    "\n",
    "((deliberate OR purpose OR \"self-injur*\" OR \"selfharm*\" OR \"self-harm*”)\n",
    "AND (ingest* OR swallow)) AND.... remaining keyword search terms in one line\n",
    "\n",
    "SO\n",
    "\n",
    "(\"intent*\" OR \"deliberate\" OR \"purpose*\" OR \"self-injur*\" OR \"selfharm*\" OR \"self-harm*\") AND (ingest* OR swallow*) AND (\"foreign obj*\" OR \"foreign bod*\" OR surg* OR endoscop* OR EGD OR OGD OR Esophagogastroduodenoscopy OR Oesophagogastroduodenoscopy OR manag*)\n",
    "\n",
    "OR\n",
    "\n"
   ]
  },
  {
   "cell_type": "code",
   "execution_count": null,
   "metadata": {},
   "outputs": [],
   "source": []
  },
  {
   "cell_type": "markdown",
   "metadata": {},
   "source": [
    "### Query Summary"
   ]
  },
  {
   "cell_type": "code",
   "execution_count": 34,
   "metadata": {},
   "outputs": [
    {
     "data": {
      "text/html": [
       "<div>\n",
       "<style scoped>\n",
       "    .dataframe tbody tr th:only-of-type {\n",
       "        vertical-align: middle;\n",
       "    }\n",
       "\n",
       "    .dataframe tbody tr th {\n",
       "        vertical-align: top;\n",
       "    }\n",
       "\n",
       "    .dataframe thead th {\n",
       "        text-align: right;\n",
       "    }\n",
       "</style>\n",
       "<table border=\"1\" class=\"dataframe\">\n",
       "  <thead>\n",
       "    <tr style=\"text-align: right;\">\n",
       "      <th></th>\n",
       "      <th>Query</th>\n",
       "      <th>Num Results</th>\n",
       "    </tr>\n",
       "  </thead>\n",
       "  <tbody>\n",
       "    <tr>\n",
       "      <th>0</th>\n",
       "      <td>\\n                        (\"foreign obj*\" OR \"...</td>\n",
       "      <td>300</td>\n",
       "    </tr>\n",
       "    <tr>\n",
       "      <th>1</th>\n",
       "      <td>\\n                        (\"foreign obj*\" OR \"...</td>\n",
       "      <td>300</td>\n",
       "    </tr>\n",
       "    <tr>\n",
       "      <th>2</th>\n",
       "      <td>\\n                        (\"foreign obj*\" OR \"...</td>\n",
       "      <td>134</td>\n",
       "    </tr>\n",
       "    <tr>\n",
       "      <th>3</th>\n",
       "      <td>\\n                        (\"foreign obj*\" OR \"...</td>\n",
       "      <td>60</td>\n",
       "    </tr>\n",
       "  </tbody>\n",
       "</table>\n",
       "</div>"
      ],
      "text/plain": [
       "                                               Query  Num Results\n",
       "0  \\n                        (\"foreign obj*\" OR \"...          300\n",
       "1  \\n                        (\"foreign obj*\" OR \"...          300\n",
       "2  \\n                        (\"foreign obj*\" OR \"...          134\n",
       "3  \\n                        (\"foreign obj*\" OR \"...           60"
      ]
     },
     "execution_count": 34,
     "metadata": {},
     "output_type": "execute_result"
    }
   ],
   "source": [
    "# show number of results for each query and store in dataframe\n",
    "\n",
    "# create results dataframe\n",
    "results_df = pd.DataFrame(columns=[\"Query\", \"Num Results\"])\n",
    "\n",
    "# initialise list to store rows in \n",
    "rows = []\n",
    "\n",
    "# iterate through all_results_dict that contains queries and results dataframes from query\n",
    "for item in all_results_dict.values():\n",
    "    \n",
    "    query = item.get('query') # get query\n",
    "    num_results = len(item.get('results')) # get number of results - max is 300.\n",
    "\n",
    "    # append row as dictionary\n",
    "    rows.append({\n",
    "        \"Query\": query,\n",
    "        \"Num Results\": num_results\n",
    "        })\n",
    "\n",
    "# create dataframe from rows\n",
    "results_df = pd.DataFrame(rows)\n",
    "\n",
    "results_df"
   ]
  },
  {
   "cell_type": "code",
   "execution_count": 35,
   "metadata": {},
   "outputs": [],
   "source": [
    "def all_results_to_csv(results, output_path):\n",
    "    \"\"\"\n",
    "    Function that exports dataframes from queries to CSV.\n",
    "\n",
    "    Parameters:\n",
    "        - Results dictionary\n",
    "    \"\"\"\n",
    "    # check results are in dictionary format\n",
    "    if not isinstance(results, dict):\n",
    "        raise TypeError(f\"Expected a dictionary, but got {type(result).__name__} instead.\")\n",
    "\n",
    "    # export results to csv to inspect\n",
    "    for n, value in enumerate(results.values()):\n",
    "        df = value['results']\n",
    "        output_file = f\"{output_path}/google_scholar_results_{n}.csv\"\n",
    "        df.to_csv(output_file, index=False)\n",
    "\n",
    "all_results_to_csv(all_results_dict, OUTPUT_PATH)"
   ]
  },
  {
   "cell_type": "code",
   "execution_count": 36,
   "metadata": {},
   "outputs": [],
   "source": [
    "# define query to export results from all_results_dict as csv files.\n",
    "def results_to_csv(results, output_path):\n",
    "    \"\"\"\n",
    "    Export query and query counts to a CSV file.\n",
    "\n",
    "    Parameters:\n",
    "        - results: A pandas DataFrame.\n",
    "        - output_path: A string representing the output file path (including the file name).\n",
    "    \"\"\"\n",
    "    # Check that results is a pandas dataframe\n",
    "    if not isinstance(results, pd.DataFrame):\n",
    "        raise TypeError(f\"Expected a DataFrame, but got {type(results).__name__} instead.\")\n",
    "    \n",
    "    # strip out \\n from all cells in the dataframe\n",
    "    results = results.apply(lambda col: col.map(lambda x: x.replace('\\n', '') if isinstance(x, str) else x))\n",
    "    \n",
    "    output_file = f\"{output_path}/google_query_results_counts.csv\"\n",
    "\n",
    "    # Save the DataFrame to CSV\n",
    "    results.to_csv(output_file, index=False)"
   ]
  },
  {
   "cell_type": "code",
   "execution_count": 37,
   "metadata": {},
   "outputs": [],
   "source": [
    "# export queries and associated results count to review with supervisor.\n",
    "results_to_csv(results_df, OUTPUT_PATH)\n"
   ]
  },
  {
   "cell_type": "markdown",
   "metadata": {},
   "source": [
    "## Clean"
   ]
  },
  {
   "cell_type": "code",
   "execution_count": 40,
   "metadata": {},
   "outputs": [
    {
     "data": {
      "text/html": [
       "<div>\n",
       "<style scoped>\n",
       "    .dataframe tbody tr th:only-of-type {\n",
       "        vertical-align: middle;\n",
       "    }\n",
       "\n",
       "    .dataframe tbody tr th {\n",
       "        vertical-align: top;\n",
       "    }\n",
       "\n",
       "    .dataframe thead th {\n",
       "        text-align: right;\n",
       "    }\n",
       "</style>\n",
       "<table border=\"1\" class=\"dataframe\">\n",
       "  <thead>\n",
       "    <tr style=\"text-align: right;\">\n",
       "      <th></th>\n",
       "      <th>Publication Year</th>\n",
       "      <th>First Author</th>\n",
       "      <th>Authors</th>\n",
       "      <th>Summary</th>\n",
       "      <th>Publication Title</th>\n",
       "      <th>Title</th>\n",
       "      <th>Abstract</th>\n",
       "      <th>URL</th>\n",
       "      <th>Database</th>\n",
       "      <th>Exclude</th>\n",
       "      <th>Reason ID</th>\n",
       "      <th>Reason</th>\n",
       "    </tr>\n",
       "  </thead>\n",
       "  <tbody>\n",
       "    <tr>\n",
       "      <th>0</th>\n",
       "      <td>1886.0</td>\n",
       "      <td>Richardson, M.</td>\n",
       "      <td>MH RICHARDSON</td>\n",
       "      <td>MH RICHARDSON - The Boston Medical and Surgica...</td>\n",
       "      <td>The Boston Medical And Surgical Journal</td>\n",
       "      <td>A Case Of Gastrotomy. Digital Exploration Of Œ...</td>\n",
       "      <td>Many cases have been recorded where foreign bo...</td>\n",
       "      <td>https://www.nejm.org/doi/pdf/10.1056/nejm18861...</td>\n",
       "      <td>Google Scholar</td>\n",
       "      <td>NaN</td>\n",
       "      <td>NaN</td>\n",
       "      <td>NaN</td>\n",
       "    </tr>\n",
       "    <tr>\n",
       "      <th>1</th>\n",
       "      <td>1895.0</td>\n",
       "      <td>Morrison, W.</td>\n",
       "      <td>WA MORRISON</td>\n",
       "      <td>WA MORRISON - The Boston Medical and Surgical ...</td>\n",
       "      <td>The Boston Medical And Surgical Journal</td>\n",
       "      <td>The Value Of The Stomach-Tube In Feeding After...</td>\n",
       "      <td>By this method I fed the child with the tube f...</td>\n",
       "      <td>https://www.nejm.org/doi/pdf/10.1056/nejm18950...</td>\n",
       "      <td>Google Scholar</td>\n",
       "      <td>NaN</td>\n",
       "      <td>NaN</td>\n",
       "      <td>NaN</td>\n",
       "    </tr>\n",
       "    <tr>\n",
       "      <th>2</th>\n",
       "      <td>1907.0</td>\n",
       "      <td>Killian, G.</td>\n",
       "      <td>G Killian</td>\n",
       "      <td>G Killian - Annals of Otology, Rhinology &amp; Lar...</td>\n",
       "      <td>Annals Of Otology</td>\n",
       "      <td>Xx. The Treatment Of Foreign Bodies In The Res...</td>\n",
       "      <td>The invitation of your President to deliver an...</td>\n",
       "      <td>https://journals.sagepub.com/doi/abs/10.1177/0...</td>\n",
       "      <td>Google Scholar</td>\n",
       "      <td>NaN</td>\n",
       "      <td>NaN</td>\n",
       "      <td>NaN</td>\n",
       "    </tr>\n",
       "    <tr>\n",
       "      <th>3</th>\n",
       "      <td>1917.0</td>\n",
       "      <td>Benedetto, M.</td>\n",
       "      <td>M DI BENEDETTO</td>\n",
       "      <td>M DI BENEDETTO - REHABILITATION OF THE INJURED...</td>\n",
       "      <td>Rehabilitation Of The Injured …</td>\n",
       "      <td>Cranial Neuropathies: Electro-Diagnosis And Ma...</td>\n",
       "      <td>CONCLUSION * Colonel Medical Corps, US Army (R...</td>\n",
       "      <td>https://upload.wikimedia.org/wikipedia/commons...</td>\n",
       "      <td>Google Scholar</td>\n",
       "      <td>NaN</td>\n",
       "      <td>NaN</td>\n",
       "      <td>NaN</td>\n",
       "    </tr>\n",
       "    <tr>\n",
       "      <th>4</th>\n",
       "      <td>1917.0</td>\n",
       "      <td>Ritter, T.</td>\n",
       "      <td>TJ Ritter</td>\n",
       "      <td>TJ Ritter - Nursing, 1917 - uk.i-scream.org</td>\n",
       "      <td>Nursing</td>\n",
       "      <td>Mother'S Remedies</td>\n",
       "      <td>╨╧*αí▒*ß&gt;*■ *¡zV*|V*╠U*═U╬U╧U╨U╤U╥U╙U╘U╒U╓U╫U╪...</td>\n",
       "      <td>ftp://ftp.uk.i-scream.org/sites/gutenberg.org/...</td>\n",
       "      <td>Google Scholar</td>\n",
       "      <td>NaN</td>\n",
       "      <td>NaN</td>\n",
       "      <td>NaN</td>\n",
       "    </tr>\n",
       "    <tr>\n",
       "      <th>...</th>\n",
       "      <td>...</td>\n",
       "      <td>...</td>\n",
       "      <td>...</td>\n",
       "      <td>...</td>\n",
       "      <td>...</td>\n",
       "      <td>...</td>\n",
       "      <td>...</td>\n",
       "      <td>...</td>\n",
       "      <td>...</td>\n",
       "      <td>...</td>\n",
       "      <td>...</td>\n",
       "      <td>...</td>\n",
       "    </tr>\n",
       "    <tr>\n",
       "      <th>130</th>\n",
       "      <td>NaN</td>\n",
       "      <td>Illenyi, J.</td>\n",
       "      <td>J Hirschberg, T Szende, P Koltai, A Illenyi</td>\n",
       "      <td>J Hirschberg, T Szende, P Koltai, A Illenyi - ...</td>\n",
       "      <td>NaN</td>\n",
       "      <td>Pediatric Airway: Cry, Stridor And Cough</td>\n",
       "      <td>This multidisciplinary book describes 42 diffe...</td>\n",
       "      <td>https://books.google.com/books?hl=en&amp;lr=&amp;id=z1...</td>\n",
       "      <td>Google Scholar</td>\n",
       "      <td>NaN</td>\n",
       "      <td>NaN</td>\n",
       "      <td>NaN</td>\n",
       "    </tr>\n",
       "    <tr>\n",
       "      <th>131</th>\n",
       "      <td>NaN</td>\n",
       "      <td>Coonar, F.</td>\n",
       "      <td>FC Wells, AS Coonar</td>\n",
       "      <td>FC Wells, AS Coonar - 2018 - books.google.com</td>\n",
       "      <td>NaN</td>\n",
       "      <td>Thoracic Surgical Techniques</td>\n",
       "      <td>This heavily revised second edition of this bo...</td>\n",
       "      <td>https://books.google.com/books?hl=en&amp;lr=&amp;id=nz...</td>\n",
       "      <td>Google Scholar</td>\n",
       "      <td>NaN</td>\n",
       "      <td>NaN</td>\n",
       "      <td>NaN</td>\n",
       "    </tr>\n",
       "    <tr>\n",
       "      <th>132</th>\n",
       "      <td>NaN</td>\n",
       "      <td>Davis, E.</td>\n",
       "      <td>EP Davis</td>\n",
       "      <td>EP Davis - 1917 - books.google.com</td>\n",
       "      <td>NaN</td>\n",
       "      <td>Obstetric And Gynecologic Nursing</td>\n",
       "      <td>CHAPTER I DEFINITION OF PREGNANCY; THE GROWTH ...</td>\n",
       "      <td>https://books.google.com/books?hl=en&amp;lr=&amp;id=5g...</td>\n",
       "      <td>Google Scholar</td>\n",
       "      <td>NaN</td>\n",
       "      <td>NaN</td>\n",
       "      <td>NaN</td>\n",
       "    </tr>\n",
       "    <tr>\n",
       "      <th>133</th>\n",
       "      <td>NaN</td>\n",
       "      <td>Sekouba, B.</td>\n",
       "      <td>B Sekouba</td>\n",
       "      <td>B Sekouba - 1996 - 34.250.91.188</td>\n",
       "      <td>NaN</td>\n",
       "      <td>Studies On The Cellular And Humoral Immune Res...</td>\n",
       "      <td>Amblyomma variegatum and Rhipicephalus appendi...</td>\n",
       "      <td>http://34.250.91.188:8080/xmlui/handle/1234567...</td>\n",
       "      <td>Google Scholar</td>\n",
       "      <td>NaN</td>\n",
       "      <td>NaN</td>\n",
       "      <td>NaN</td>\n",
       "    </tr>\n",
       "    <tr>\n",
       "      <th>134</th>\n",
       "      <td>NaN</td>\n",
       "      <td>Winter, R.</td>\n",
       "      <td>R Winter</td>\n",
       "      <td>R Winter - 2009 - books.google.com</td>\n",
       "      <td>NaN</td>\n",
       "      <td>A Consumer'S Dictionary Of Cosmetic Ingredient...</td>\n",
       "      <td>Everything you need to know about the safety a...</td>\n",
       "      <td>https://books.google.com/books?hl=en&amp;lr=&amp;id=3h...</td>\n",
       "      <td>Google Scholar</td>\n",
       "      <td>NaN</td>\n",
       "      <td>NaN</td>\n",
       "      <td>NaN</td>\n",
       "    </tr>\n",
       "  </tbody>\n",
       "</table>\n",
       "<p>135 rows × 12 columns</p>\n",
       "</div>"
      ],
      "text/plain": [
       "     Publication Year    First Author  \\\n",
       "0              1886.0  Richardson, M.   \n",
       "1              1895.0    Morrison, W.   \n",
       "2              1907.0     Killian, G.   \n",
       "3              1917.0   Benedetto, M.   \n",
       "4              1917.0      Ritter, T.   \n",
       "..                ...             ...   \n",
       "130               NaN     Illenyi, J.   \n",
       "131               NaN      Coonar, F.   \n",
       "132               NaN       Davis, E.   \n",
       "133               NaN     Sekouba, B.   \n",
       "134               NaN      Winter, R.   \n",
       "\n",
       "                                         Authors  \\\n",
       "0                                  MH RICHARDSON   \n",
       "1                                    WA MORRISON   \n",
       "2                                      G Killian   \n",
       "3                                 M DI BENEDETTO   \n",
       "4                                      TJ Ritter   \n",
       "..                                           ...   \n",
       "130  J Hirschberg, T Szende, P Koltai, A Illenyi   \n",
       "131                          FC Wells, AS Coonar   \n",
       "132                                     EP Davis   \n",
       "133                                    B Sekouba   \n",
       "134                                     R Winter   \n",
       "\n",
       "                                               Summary  \\\n",
       "0    MH RICHARDSON - The Boston Medical and Surgica...   \n",
       "1    WA MORRISON - The Boston Medical and Surgical ...   \n",
       "2    G Killian - Annals of Otology, Rhinology & Lar...   \n",
       "3    M DI BENEDETTO - REHABILITATION OF THE INJURED...   \n",
       "4          TJ Ritter - Nursing, 1917 - uk.i-scream.org   \n",
       "..                                                 ...   \n",
       "130  J Hirschberg, T Szende, P Koltai, A Illenyi - ...   \n",
       "131      FC Wells, AS Coonar - 2018 - books.google.com   \n",
       "132                 EP Davis - 1917 - books.google.com   \n",
       "133                   B Sekouba - 1996 - 34.250.91.188   \n",
       "134                 R Winter - 2009 - books.google.com   \n",
       "\n",
       "                           Publication Title  \\\n",
       "0    The Boston Medical And Surgical Journal   \n",
       "1    The Boston Medical And Surgical Journal   \n",
       "2                          Annals Of Otology   \n",
       "3            Rehabilitation Of The Injured …   \n",
       "4                                    Nursing   \n",
       "..                                       ...   \n",
       "130                                      NaN   \n",
       "131                                      NaN   \n",
       "132                                      NaN   \n",
       "133                                      NaN   \n",
       "134                                      NaN   \n",
       "\n",
       "                                                 Title  \\\n",
       "0    A Case Of Gastrotomy. Digital Exploration Of Œ...   \n",
       "1    The Value Of The Stomach-Tube In Feeding After...   \n",
       "2    Xx. The Treatment Of Foreign Bodies In The Res...   \n",
       "3    Cranial Neuropathies: Electro-Diagnosis And Ma...   \n",
       "4                                    Mother'S Remedies   \n",
       "..                                                 ...   \n",
       "130           Pediatric Airway: Cry, Stridor And Cough   \n",
       "131                       Thoracic Surgical Techniques   \n",
       "132                  Obstetric And Gynecologic Nursing   \n",
       "133  Studies On The Cellular And Humoral Immune Res...   \n",
       "134  A Consumer'S Dictionary Of Cosmetic Ingredient...   \n",
       "\n",
       "                                              Abstract  \\\n",
       "0    Many cases have been recorded where foreign bo...   \n",
       "1    By this method I fed the child with the tube f...   \n",
       "2    The invitation of your President to deliver an...   \n",
       "3    CONCLUSION * Colonel Medical Corps, US Army (R...   \n",
       "4    ╨╧*αí▒*ß>*■ *¡zV*|V*╠U*═U╬U╧U╨U╤U╥U╙U╘U╒U╓U╫U╪...   \n",
       "..                                                 ...   \n",
       "130  This multidisciplinary book describes 42 diffe...   \n",
       "131  This heavily revised second edition of this bo...   \n",
       "132  CHAPTER I DEFINITION OF PREGNANCY; THE GROWTH ...   \n",
       "133  Amblyomma variegatum and Rhipicephalus appendi...   \n",
       "134  Everything you need to know about the safety a...   \n",
       "\n",
       "                                                   URL        Database  \\\n",
       "0    https://www.nejm.org/doi/pdf/10.1056/nejm18861...  Google Scholar   \n",
       "1    https://www.nejm.org/doi/pdf/10.1056/nejm18950...  Google Scholar   \n",
       "2    https://journals.sagepub.com/doi/abs/10.1177/0...  Google Scholar   \n",
       "3    https://upload.wikimedia.org/wikipedia/commons...  Google Scholar   \n",
       "4    ftp://ftp.uk.i-scream.org/sites/gutenberg.org/...  Google Scholar   \n",
       "..                                                 ...             ...   \n",
       "130  https://books.google.com/books?hl=en&lr=&id=z1...  Google Scholar   \n",
       "131  https://books.google.com/books?hl=en&lr=&id=nz...  Google Scholar   \n",
       "132  https://books.google.com/books?hl=en&lr=&id=5g...  Google Scholar   \n",
       "133  http://34.250.91.188:8080/xmlui/handle/1234567...  Google Scholar   \n",
       "134  https://books.google.com/books?hl=en&lr=&id=3h...  Google Scholar   \n",
       "\n",
       "     Exclude  Reason ID  Reason  \n",
       "0        NaN        NaN     NaN  \n",
       "1        NaN        NaN     NaN  \n",
       "2        NaN        NaN     NaN  \n",
       "3        NaN        NaN     NaN  \n",
       "4        NaN        NaN     NaN  \n",
       "..       ...        ...     ...  \n",
       "130      NaN        NaN     NaN  \n",
       "131      NaN        NaN     NaN  \n",
       "132      NaN        NaN     NaN  \n",
       "133      NaN        NaN     NaN  \n",
       "134      NaN        NaN     NaN  \n",
       "\n",
       "[135 rows x 12 columns]"
      ]
     },
     "execution_count": 40,
     "metadata": {},
     "output_type": "execute_result"
    }
   ],
   "source": [
    "# import google_df from previously exported csv\n",
    "google_df = pd.read_csv(\"/\".join([INPUT_PATH, \"google_scholar_results_2.csv\"]))\n",
    "\n",
    "google_df['First Author'] = google_df['First Author'].str.title() # clean first author names\n",
    "google_df['Publication Title'] = google_df['Publication Title'].str.title() \n",
    "google_df['Title'] = google_df['Title'].str.title()\n",
    "google_df['URL'] = google_df['URL'].str.lower()\n",
    "\n",
    "google_df"
   ]
  },
  {
   "cell_type": "markdown",
   "metadata": {},
   "source": [
    "### Duplicate Removal"
   ]
  },
  {
   "cell_type": "code",
   "execution_count": 44,
   "metadata": {},
   "outputs": [
    {
     "name": "stdout",
     "output_type": "stream",
     "text": [
      "0 duplicates were removed.\n"
     ]
    }
   ],
   "source": [
    "start_count = len(google_df)\n",
    "google_df = google_df.drop_duplicates(subset=google_df.columns, keep='first')\n",
    "end_count = len(google_df)\n",
    "\n",
    "duplicates_removed_count = end_count - start_count\n",
    "\n",
    "print(f\"{duplicates_removed_count} duplicates were removed.\")\n"
   ]
  },
  {
   "cell_type": "code",
   "execution_count": 48,
   "metadata": {},
   "outputs": [],
   "source": [
    "# export for title and abstract review\n",
    "google_df.to_csv(os.path.join(OUTPUT_PATH, \"google_school_title_abstract_screen_start.csv\"))"
   ]
  },
  {
   "cell_type": "markdown",
   "metadata": {},
   "source": [
    "At this stage, after discussing with my supervisor and a librarian, it is decided that the 135 result search strategy would suffice. \n",
    "The results were exported to CSV and the URLs were accessed to access title and abstracts. \n",
    "Abstracts - where available - were transferred to the spreadsheet using Microsoft excel and exclusion criteria were applied."
   ]
  },
  {
   "cell_type": "markdown",
   "metadata": {},
   "source": [
    "## Bibliography\n",
    "\n",
    "1.\tHaddaway NR, Collins AM, Coughlin D, Kirk S. The Role of Google Scholar in Evidence Reviews and Its Applicability to Grey Literature Searching. Wray KB, editor. PLoS ONE. 2015 Sep 17;10(9):e0138237. "
   ]
  }
 ],
 "metadata": {
  "kernelspec": {
   "display_name": "base",
   "language": "python",
   "name": "python3"
  },
  "language_info": {
   "codemirror_mode": {
    "name": "ipython",
    "version": 3
   },
   "file_extension": ".py",
   "mimetype": "text/x-python",
   "name": "python",
   "nbconvert_exporter": "python",
   "pygments_lexer": "ipython3",
   "version": "3.11.7"
  }
 },
 "nbformat": 4,
 "nbformat_minor": 2
}
